{
 "cells": [
  {
   "cell_type": "markdown",
   "id": "901c3c05-5706-49cf-98a4-4ecbeec6957f",
   "metadata": {},
   "source": [
    "# Gaussian Elimination Project"
   ]
  },
  {
   "cell_type": "markdown",
   "id": "e29667fb-e253-4040-8165-fe764218470e",
   "metadata": {},
   "source": [
    "This is one of my first projects related to Data Science and Machine Learning. In this lab I will implement the Gaussian Elimination method, a foundational algorithm for solving systems of linear equations."
   ]
  },
  {
   "cell_type": "markdown",
   "id": "d2dcd3f7-1049-4790-984a-9589b6ea70c4",
   "metadata": {},
   "source": [
    "# Outline\n",
    "- [ 1 - Introduction ](#1)\n",
    "- [ 2 - Import Numpy](#2)\n",
    "- [ 3 - Auxiliary functions](#3)\n",
    "  - [ 3.1 - Function swap rows](#3.1)\n",
    "  - [ 3.2 - Finding the first non-zero value in a column starting from a specific value](#3.2)\n",
    "  - [ 3.3 - Find the first non zero element for any row](#3.3)\n",
    "  - [ 3.4 - Constructing the Augmented Matrix](#3.4)\n",
    "- [ 4 - Row echelon form](#4)\n",
    "  - [ 4.1 - Row Echelon Form](#4.1)\n",
    "  - [ 4.2 - Row Echelon Form function](#4.2)\n",
    "- [ 5 - Back substitution](#5)\n",
    "  - [ 5.1 - Back substitution function](#5.1)\n",
    "- [ 6 - The Gaussian Elimination](#6)\n",
    "  - [ 6.1 - Bringing it all together](#6.1)\n",
    "- [ 7 - Test with any system of equations!](#7)\n"
   ]
  },
  {
   "cell_type": "markdown",
   "id": "b2adf855-cb14-4847-ab22-f614c729f316",
   "metadata": {},
   "source": [
    "<a name=\"#1\"></a>\n",
    "## 1 - Introduction "
   ]
  },
  {
   "cell_type": "markdown",
   "id": "e00d4312-5fa4-419d-b4cf-ffa64cabe7d1",
   "metadata": {},
   "source": [
    "### Step 1: Augmented Matrix\n",
    "\n",
    "Consider a system of linear equations:\n",
    "\n",
    "$$\n",
    "\\begin{align*}\n",
    "2x_1 + 3x_2 + 5x_3&= 12 \\\\\n",
    "-3x_1 - 2x_2 + 4x_3 &= -2 \\\\\n",
    "x_1 + x_2 - 2x_3  &= 8 \\\\\n",
    "\n",
    "\\end{align*}\n",
    "$$\n",
    "Create the augmented matrix \\([A | B]\\), where \\(A\\) represents the coefficient matrix and \\(B\\) denotes the column vector of constants:\n",
    "\n",
    "$$\n",
    "A = \\begin{bmatrix}\n",
    "\\phantom{-}2 & \\phantom{-}3 & \\phantom{-}5  \\\\\n",
    "-3 & -2 & \\phantom-4 \\\\\n",
    "\\phantom{-}1 & \\phantom{-}1 & -2  \\\\\n",
    "\\end{bmatrix}\n",
    "$$\n",
    "\n",
    "$$\n",
    "B = \\begin{bmatrix}\n",
    "\\phantom-12 \\\\ -2 \\\\ \\phantom-8 \n",
    "\\end{bmatrix}\n",
    "$$\n",
    "\n",
    "Thus, \\([A | B]\\) is represented as:\n",
    "\n",
    "$$\n",
    "\\begin{bmatrix}\n",
    "\\phantom{-}2 & \\phantom{-}3 & \\phantom{-}5 & | & \\phantom{-}12 \\\\\n",
    "-3 & -2 & \\phantom-4 & | & -2 \\\\\n",
    "\\phantom{-}1 & \\phantom{-}1 & -2 & | & \\phantom{-}8 \\\\\n",
    "\\end{bmatrix}\n",
    "$$\n",
    "\n",
    "\n",
    "### Step 2: Transform Matrix into Row Echelon Form\n",
    "Initiate row operations to convert the augmented matrix into row-echelon form. The objective is to introduce zeros below the leading diagonal.\n",
    "\n",
    "- **Row Switching:** Rearrange rows to position the leftmost non-zero entry at the top.\n",
    "- **Row Scaling:** Multiply a row by a non-zero scalar.\n",
    "- **Row Replacement:** Substitute a row with the sum of itself and a multiple of another row.\n",
    "\n",
    "### Step 3: Back Substitution\n",
    "\n",
    "After attaining the row-echelon form, solve for variables starting from the last row and progressing upwards.\n",
    "\n",
    "\n",
    "### Step 4: Compile the Gaussian Elimination Algorithm\n",
    "\n",
    "Combine each function related to the aforementioned steps into a single comprehensive function."
   ]
  },
  {
   "cell_type": "markdown",
   "id": "7270b295-8790-4582-81d9-7462f1976142",
   "metadata": {},
   "source": [
    "<a name=\"2\"></a>\n",
    "## 2 - Import Numpy"
   ]
  },
  {
   "cell_type": "code",
   "execution_count": 6,
   "id": "778ce963-4281-44cd-ae9c-914410974550",
   "metadata": {},
   "outputs": [],
   "source": [
    "import numpy as np"
   ]
  },
  {
   "cell_type": "markdown",
   "id": "af3dc78f-1182-4a04-9379-2705661c6808",
   "metadata": {},
   "source": [
    "<a name=\"3\"></a>\n",
    "## 3 - Auxiliary functions"
   ]
  },
  {
   "cell_type": "markdown",
   "id": "52b39726-479d-41ab-93bc-bd6c25da11ac",
   "metadata": {},
   "source": [
    "<a name=\"3.1\"></a>\n",
    "### 3.1 - Function swap rows"
   ]
  },
  {
   "cell_type": "code",
   "execution_count": 10,
   "id": "847b16c7-5f64-41ae-a074-6f5ac23ade3e",
   "metadata": {},
   "outputs": [],
   "source": [
    "def swap_rows(M, row_index_1, row_index_2):\n",
    "    M = M.copy()\n",
    "\n",
    "    M[[row_index_1, row_index_2]] = M[[row_index_2, row_index_1]]\n",
    "    return M"
   ]
  },
  {
   "cell_type": "markdown",
   "id": "61b5823c-406c-40ba-bf7f-8bf63c2d6424",
   "metadata": {},
   "source": [
    "I will test our **swap_rows** function with some examples"
   ]
  },
  {
   "cell_type": "code",
   "execution_count": 13,
   "id": "03180e7b-30cb-4716-9c3e-8e7cf6820fdd",
   "metadata": {},
   "outputs": [
    {
     "name": "stdout",
     "output_type": "stream",
     "text": [
      "Matrix M before func: \n",
      "[[1 2 3]\n",
      " [4 5 6]\n",
      " [7 8 9]]\n",
      "Matrix M after func: \n",
      "[[7 8 9]\n",
      " [4 5 6]\n",
      " [1 2 3]]\n"
     ]
    }
   ],
   "source": [
    "M = np.array([[1, 2, 3], [4, 5, 6], [7, 8, 9]])\n",
    "print(f'Matrix M before func: \\n{M}')\n",
    "M = swap_rows(M, 0, 2)\n",
    "print(f'Matrix M after func: \\n{M}')"
   ]
  },
  {
   "cell_type": "markdown",
   "id": "4b7ce319-998d-4307-9cc6-e6d5174c5791",
   "metadata": {},
   "source": [
    "<a name=\"3.2\"></a>\n",
    "### 3.2 - Finding the first non-zero value in a column starting from a specific value"
   ]
  },
  {
   "cell_type": "code",
   "execution_count": 16,
   "id": "f3ef17a7-5932-44ea-bc25-90a35250b55b",
   "metadata": {},
   "outputs": [],
   "source": [
    "def get_index_first_non_zero_value_from_column(M, column, starting_row):\n",
    "    column_array = M[starting_row:, column]\n",
    "\n",
    "    for i, val in enumerate(column_array):\n",
    "        if not np.isclose(val, 0, atol = 1e-5):\n",
    "            index = i + starting_row\n",
    "            return index\n",
    "    return -1"
   ]
  },
  {
   "cell_type": "markdown",
   "id": "8a37b5f0-5c58-4b98-82ce-1e4228b1d852",
   "metadata": {},
   "source": [
    "Let's test this function"
   ]
  },
  {
   "cell_type": "code",
   "execution_count": 19,
   "id": "b37840c8-db51-4880-b238-4a5d325c5ba2",
   "metadata": {},
   "outputs": [
    {
     "name": "stdout",
     "output_type": "stream",
     "text": [
      "[[ 0  5 -3  6  8]\n",
      " [ 0  6  3  8  1]\n",
      " [ 0  0  0  0  0]\n",
      " [ 0  0  0  0  7]\n",
      " [ 0  2  1  0  4]]\n"
     ]
    }
   ],
   "source": [
    "N = np.array([\n",
    "[0, 5, -3 ,6 ,8],\n",
    "[0, 6, 3, 8, 1],\n",
    "[0, 0, 0, 0, 0],\n",
    "[0, 0, 0 ,0 ,7],\n",
    "[0, 2, 1, 0, 4]\n",
    "]\n",
    ")\n",
    "print(N)"
   ]
  },
  {
   "cell_type": "code",
   "execution_count": 21,
   "id": "a720190b-72b2-41b5-a188-7edac8302b49",
   "metadata": {},
   "outputs": [
    {
     "data": {
      "text/plain": [
       "-1"
      ]
     },
     "execution_count": 21,
     "metadata": {},
     "output_type": "execute_result"
    }
   ],
   "source": [
    "get_index_first_non_zero_value_from_column(N, 0, 0)"
   ]
  },
  {
   "cell_type": "markdown",
   "id": "566e5382-8fc9-4791-825a-c4fb1191dddb",
   "metadata": {},
   "source": [
    "So, as we can see, our function works right!"
   ]
  },
  {
   "cell_type": "markdown",
   "id": "98e576a3-0a38-4620-953e-6c55ab7bc88b",
   "metadata": {},
   "source": [
    "<a name=\"3.3\"></a>\n",
    "### 3.3 - Find the first non zero element for any row\n",
    "\n",
    "This function aids in locating the pivot within a designated row of a matrix. It identifies the index of the first non-zero element in the desired row. If no non-zero value is present, it returns -1."
   ]
  },
  {
   "cell_type": "code",
   "execution_count": 25,
   "id": "ea355856-a097-4694-bd29-45d38e9b7f66",
   "metadata": {},
   "outputs": [],
   "source": [
    "def get_index_first_non_zero_value_from_row(M, row, augmented = False):\n",
    "    M = M.copy()\n",
    "\n",
    "    if augmented == True:\n",
    "        M = M[:, :-1]\n",
    "    row_array = M[row]\n",
    "    for i, val in enumerate(row_array):\n",
    "        if not np.isclose(val, 0, atol = 1e-5):\n",
    "            return i\n",
    "    return -1"
   ]
  },
  {
   "cell_type": "markdown",
   "id": "aa3df0f8-37d6-49b3-81e5-06ea40961fb7",
   "metadata": {},
   "source": [
    "Let's practice with the same matrix as before:"
   ]
  },
  {
   "cell_type": "code",
   "execution_count": 28,
   "id": "f595fc28-f450-45ea-b79b-7414b7f75fe3",
   "metadata": {},
   "outputs": [
    {
     "name": "stdout",
     "output_type": "stream",
     "text": [
      "[[ 0  5 -3  6  8]\n",
      " [ 0  6  3  8  1]\n",
      " [ 0  0  0  0  0]\n",
      " [ 0  0  0  0  7]\n",
      " [ 0  2  1  0  4]]\n"
     ]
    }
   ],
   "source": [
    "print(N)"
   ]
  },
  {
   "cell_type": "code",
   "execution_count": 30,
   "id": "713897e7-ec8c-47ab-a4cf-3fbe8cee1459",
   "metadata": {},
   "outputs": [
    {
     "name": "stdout",
     "output_type": "stream",
     "text": [
      "Output for row 2: -1\n",
      "Output for row 3: 4\n"
     ]
    }
   ],
   "source": [
    "print(f'Output for row 2: {get_index_first_non_zero_value_from_row(N, 2)}')\n",
    "print(f'Output for row 3: {get_index_first_non_zero_value_from_row(N, 3)}')"
   ]
  },
  {
   "cell_type": "code",
   "execution_count": 32,
   "id": "ac37eaeb-5f4e-4304-9d95-d6ba5b4f815e",
   "metadata": {},
   "outputs": [
    {
     "name": "stdout",
     "output_type": "stream",
     "text": [
      "Output for row 3: -1\n"
     ]
    }
   ],
   "source": [
    "print(f'Output for row 3: {get_index_first_non_zero_value_from_row(N, 3, augmented = True)}')"
   ]
  },
  {
   "cell_type": "markdown",
   "id": "d89285b8-4ced-49db-9996-0fec5b7bb545",
   "metadata": {},
   "source": [
    "<a name=\"3.4\"></a>\n",
    "### 3.4 - Constructing the Augmented Matrix\n",
    "\n",
    "This function constructs the augmented matrix by combining a square matrix of size $n \\times n$, representing $n$ equations with $n$ variables each, with an $n \\times 1$ matrix that denotes its constant values. The function concatenates both matrices to form the augmented matrix and returns the result."
   ]
  },
  {
   "cell_type": "code",
   "execution_count": 35,
   "id": "0bb1ba11-ee78-434e-bf11-5cea3982fee8",
   "metadata": {},
   "outputs": [],
   "source": [
    "def augmented_matrix(A, B):\n",
    "    augmented_matrix = np.hstack((A, B))\n",
    "    return augmented_matrix"
   ]
  },
  {
   "cell_type": "code",
   "execution_count": 37,
   "id": "1a860671-600d-45db-ae80-1915e5f171cf",
   "metadata": {},
   "outputs": [
    {
     "name": "stdout",
     "output_type": "stream",
     "text": [
      "[[1 2 3 1]\n",
      " [3 4 5 5]\n",
      " [4 5 6 7]]\n"
     ]
    }
   ],
   "source": [
    "A = np.array([[1,2,3], [3,4,5], [4,5,6]])\n",
    "B = np.array([[1], [5], [7]])\n",
    "\n",
    "print(augmented_matrix(A,B))"
   ]
  },
  {
   "cell_type": "markdown",
   "id": "af965803-c0d9-4df1-9a61-5ef9d1ac055a",
   "metadata": {},
   "source": [
    "<a name=\"4\"></a>\n",
    "## 4 - Row echelon form\n",
    "\n",
    "<a name=\"4.1\"></a>\n",
    "\n",
    "<a name=\"4.1\"></a>\n",
    "### 4.1 - Row Echelon Form"
   ]
  },
  {
   "cell_type": "markdown",
   "id": "a3195ad5-1891-4542-bad3-e81f5896ab5b",
   "metadata": {},
   "source": [
    "Example of matrix **in row echelon form**\n",
    "\n",
    "$$M =\n",
    "\\begin{bmatrix}\n",
    "7 & 2 & 3 \\\\\n",
    "0 & 9 & 4 \\\\\n",
    "0 & 0 & 3 \\\\\n",
    "\\end{bmatrix}\n",
    "$$\n",
    "\n",
    "Examples of matrices that **are not in row echelon form**\n",
    "\n",
    "$$\n",
    "A = \\begin{bmatrix}\n",
    "1 & 2 & 2 \\\\\n",
    "0 & 5 & 3 \\\\\n",
    "1 & 0 & 8 \\\\\n",
    "\\end{bmatrix}\n",
    "$$\n",
    "\n",
    "$$B = \n",
    "\\begin{bmatrix}\n",
    "1 & 2 & 3 \\\\\n",
    "0 & 0 & 4 \\\\\n",
    "0 & 0 & 7 \\\\\n",
    "\\end{bmatrix}\n",
    "$$\n"
   ]
  },
  {
   "cell_type": "markdown",
   "id": "17792d74-925e-4f55-a97c-673668db7550",
   "metadata": {},
   "source": [
    "Matrix $M$ given by:\n",
    "\n",
    "$$\n",
    "M = \n",
    "\\begin{bmatrix} \n",
    "* & * & * & \\\\\n",
    "0 & \\text{pivot} & * \\\\\n",
    "0 & \\text{value} & * \n",
    "\\end{bmatrix}\n",
    "$$\n",
    "\n",
    "\n",
    "- Scale $R_1$ by the inverse of the pivot:\n",
    "\n",
    "$$\n",
    "\\text{Row 1} \\rightarrow \\frac{1}{\\text{pivot}} \\cdot \\text{Row } \n",
    "$$\n",
    "\n",
    "Resulting in the updated matrix with the pivot for row $1$ set to $1$:\n",
    "\n",
    "$$\n",
    "M = \n",
    "\\begin{bmatrix} \n",
    "* & * & * & \\\\\n",
    "0 & 1 & * \\\\\n",
    "0 & \\text{value} & * \n",
    "\\end{bmatrix}\n",
    "$$\n",
    "\n",
    "Next, to eliminate the value below the pivot in row $1$, I am going to apply the following formula:\n",
    "\n",
    "$$\n",
    "\\text{Row 2} \\rightarrow \\text{Row 2} - \\text{value}\\cdot \\text{Row 1}\n",
    "$$\n",
    "\n",
    "This transformation yields the modified matrix:\n",
    "\n",
    "$$\n",
    "M = \n",
    "\\begin{bmatrix} \n",
    "* & * & * & \\\\\n",
    "0 & 1 & * \\\\\n",
    "0 & 0 & * \n",
    "\\end{bmatrix}\n",
    "$$"
   ]
  },
  {
   "cell_type": "markdown",
   "id": "66643fe5-a5e9-46e9-88c8-ce03f37fb2ba",
   "metadata": {},
   "source": [
    "**Note that the square matrix $A$ needs to be in row-echelon form. However, every row operation conducted must also affect the augmented (constant) part.** "
   ]
  },
  {
   "cell_type": "markdown",
   "id": "62b9bc5f-9c2d-4879-8182-ee3540ba1cae",
   "metadata": {},
   "source": [
    "Consider the following system of equations:\n",
    "\n",
    "\n",
    "$$\n",
    "\\begin{align*}\n",
    "2x_2 + x_3 &= 3 \\\\\n",
    "x_1 + x_2 +x_3 &= 6 \\\\\n",
    "x_1 + 2x_2 + 1x_3 &= 12\n",
    "\\end{align*}\n",
    "$$\n",
    "\n",
    "Consequently, the square matrix $A$ is formulated as:\n",
    "\n",
    "$$\n",
    "A = \n",
    "\\begin{bmatrix} \n",
    "0 & 2 & 1 & \\\\\n",
    "1 & 1 & 1 & \\\\\n",
    "1 & 2 & 1 & \n",
    "\\end{bmatrix}\n",
    "$$\n",
    "\n",
    "The column vector (a matrix of size $n \\times 1$) is represented by:\n",
    "\n",
    "$$\n",
    "B = \n",
    "\\begin{bmatrix} \n",
    "3\\\\\n",
    "6\\\\\n",
    "12\n",
    "\\end{bmatrix}\n",
    "$$\n",
    "\n",
    "Combining matrices $A$ and $B$ yields the augmented matrix $M$:\n",
    "\n",
    "$$\n",
    "M = \n",
    "\\begin{bmatrix} \n",
    "0 & 2 & 1 & | & 3 \\\\\n",
    "1 & 1 & 1 & | & 6 \\\\\n",
    "1 & 2 & 1 & | & 12 \n",
    "\\end{bmatrix}\n",
    "$$"
   ]
  },
  {
   "cell_type": "markdown",
   "id": "512c9cd1-96b1-4e85-a3b4-72e81d95a9a5",
   "metadata": {},
   "source": [
    "**Step 1:**\n",
    "\n",
    "Commencing with row $0$: The initial candidate for the pivot is always the value in the main diagonal of the matrix. Denoting row $0$ as $R_0$:\n",
    "\n",
    "$$R_0= \\begin{bmatrix} 0 & 2 & 1 & | & 3 \\end{bmatrix}$$\n",
    "\n",
    "The value in the main diagonal is the element $M[0,0]$ (the first element of the first column). The first row can be accessed by performing $M[0]$, i.e., $M[0] = R_0$.\n",
    "\n",
    "The first row operation involves **scaling by the pivot's inverse**. Since the value in the main diagonal is $0$, necessitating a non-zero value for scaling by its inverse, we must switch rows in this case. Note that $R_1$ has a value different from $0$ in the required index. Consequently, switching rows $0$ and $1$:\n",
    "\n",
    "$$R_0 \\rightarrow R_1$$\n",
    "$$R_1 \\rightarrow R_0$$\n",
    "\n",
    "Resulting in the updated augmented matrix:\n",
    "\n",
    "$$\n",
    "M = \n",
    "\\begin{bmatrix} \n",
    "1 & 1 & 1 & | & 6 \\\\\n",
    "0 & 2 & 1 & | & 3 \\\\\n",
    "1 & 2 & 1 & | & 12 \n",
    "\\end{bmatrix}\n",
    "$$\n",
    "\n",
    "Now, the pivot is already $1$, eliminating the need for row scaling. Following the formula:\n",
    "\n",
    "$$ R_1 \\rightarrow  R_1 - 0 \\cdot R_0 = R_1$$\n",
    "\n",
    "Therefore, the second row remains unchanged. Moving to the third row ($R_2$), the value in the augmented matrix below the pivot from $R_0$ is $M[2,0]$, which is $1$.\n",
    "\n",
    "$$R_2 = R_2 - 1 \\cdot R_0 = \\begin{bmatrix} 0 & 1 & 0 & | & 6  \\end{bmatrix}$$\n",
    "\n",
    "Resulting in the modified augmented matrix:\n",
    "\n",
    "$$\n",
    "M = \n",
    "\\begin{bmatrix} \n",
    "1 & 1 & 1 & | & 6 \\\\\n",
    "0 & 2 & 1 & | & 3 \\\\\n",
    "0 & 1 & 0 & | & 6\n",
    "\\end{bmatrix}\n",
    "$$\n",
    "\n",
    "Progressing to the second row ($R_1$), the value in the main diagonal is $2$, different from zero. Scaling it by $\\frac{1}{2}$:\n",
    "\n",
    "$$R_1 = \\frac{1}{2}R_1$$\n",
    "\n",
    "Resulting in the augmented matrix:\n",
    "\n",
    "$$\n",
    "M = \n",
    "\\begin{bmatrix} \n",
    "1 & 1 & 1 & | & 6 \\\\\n",
    "0 & 1 & \\frac{1}{2} & | & \\frac{3}{2} \\\\\n",
    "0 & 1 & 0 & | & 6\n",
    "\\end{bmatrix}\n",
    "$$\n",
    "\n",
    "Now, there's only one row below it for row replacement. The value just below the pivot is located at $M[2,1]$, which is $1$. Thus:\n",
    "\n",
    "$$R_2 = R_2 - 1 \\cdot R_1 = \\begin{bmatrix} \\phantom{-}0 & \\phantom{-}0 & -\\frac{1}{2} & | & \\phantom{-}\\frac{9}{2} \\end{bmatrix} $$\n",
    "\n",
    "Resulting in the augmented matrix:\n",
    "\n",
    "\n",
    "$$\n",
    "M = \n",
    "\\begin{bmatrix} \n",
    "\\phantom{-}1 & \\phantom{-}1 & \\phantom{-}1 & | & \\phantom{-}6 \\\\\n",
    "\\phantom{-}0 & \\phantom{-}1 & \\phantom{-}\\frac{1}{2} & | & \\phantom{-}\\frac{3}{2} \\\\\n",
    "\\phantom{-}0 & \\phantom{-}0 & -\\frac{1}{2} & | & \\phantom{-}\\frac{9}{2} \n",
    "\\end{bmatrix}\n",
    "$$\n",
    "\n",
    "Finally, normalizing the last row as\n",
    "\n",
    "$$R_2 = -2 \\cdot R_2$$\n",
    "\n",
    "The resulting matrix is\n",
    "\n",
    "$$\n",
    "M = \n",
    "\\begin{bmatrix} \n",
    "\\phantom{-}1 & \\phantom{-}1 & \\phantom{-}1 & | & \\phantom{-}6 \\\\\n",
    "\\phantom{-}0 & \\phantom{-}1 & \\phantom{-}\\frac{1}{2} & | & \\phantom{-}\\frac{3}{2} \\\\\n",
    "\\phantom{-}0 & \\phantom{-}0 & \\phantom{-}1 & | & -9 \n",
    "\\end{bmatrix}\n",
    "$$\n",
    "\n",
    "Thus, the matrix is now in row echelon form with unitary pivots."
   ]
  },
  {
   "cell_type": "markdown",
   "id": "d0a6d0aa-6a8b-4659-b098-12bbd553247f",
   "metadata": {},
   "source": [
    "<a name=\"4.2\"></a>\n",
    "### 4.2 - Row Echelon Form function"
   ]
  },
  {
   "cell_type": "code",
   "execution_count": 46,
   "id": "da351bd3-fb92-4eb2-a908-b7e161f7153a",
   "metadata": {},
   "outputs": [],
   "source": [
    "def row_echelon_form(A, B):\n",
    "    det_A = np.linalg.det(A)\n",
    "\n",
    "    if np.isclose(det_A, 0) == True:\n",
    "        return \"Singular System\"\n",
    "    A = A.copy()\n",
    "    B = B.copy()\n",
    "\n",
    "    num_rows = len(A)\n",
    "    M = augmented_matrix(A, B)\n",
    "    for row in range(num_rows):\n",
    "        pivot_candidat = M[row, row]\n",
    "\n",
    "        if np.isclose(pivot_candidat, 0) == True:\n",
    "            first_non_zero_value_under_pivot_candidat = get_index_first_non_zero_value_from_column(M, row, row)\n",
    "            M = swap_rows(M, row, first_non_zero_value_under_pivot_candidat)\n",
    "            pivot = M[row, row]\n",
    "        else:\n",
    "            pivot = pivot_candidat\n",
    "        M[row] = 1/pivot * M[row]\n",
    "        for j in range(row + 1, num_rows):\n",
    "            value_below_pivot = M[j, row]\n",
    "            M[j] = M[j] - value_below_pivot*M[row]\n",
    "    return M\n",
    "            "
   ]
  },
  {
   "cell_type": "code",
   "execution_count": 48,
   "id": "3d68582f-45e8-4fc6-aacd-f64a91824843",
   "metadata": {},
   "outputs": [
    {
     "data": {
      "text/plain": [
       "array([[1, 2, 3, 1],\n",
       "       [0, 1, 0, 2],\n",
       "       [0, 0, 1, 0]])"
      ]
     },
     "execution_count": 48,
     "metadata": {},
     "output_type": "execute_result"
    }
   ],
   "source": [
    "A = np.array([[1,2,3],[0,1,0], [0,0,5]])\n",
    "B = np.array([[1], [2], [4]])\n",
    "row_echelon_form(A,B)"
   ]
  },
  {
   "cell_type": "markdown",
   "id": "5a38a270-ee67-4f34-94f0-d3d6af8c8490",
   "metadata": {},
   "source": [
    "<a name=\"5\"></a>\n",
    "## 5 - Back substitution\n",
    "\n",
    "The final step of the algorithm involves back substitution, a crucial process in obtaining solutions for the linear system. The formula employed is:\n",
    "\n",
    "\n",
    "$$\\text{Row above} \\rightarrow \\text{Row above} - \\text{value} \\cdot \\text{Row pivot}$$\n",
    "\n",
    "In this equation, $\\text{value}$ denotes the value above the pivot, which initially equals 1."
   ]
  },
  {
   "cell_type": "markdown",
   "id": "1080b1cc-0a8a-4193-b654-372c986efba4",
   "metadata": {},
   "source": [
    "$$\n",
    "M = \n",
    "\\begin{bmatrix} \n",
    "\\phantom{-}1 & -1 & \\phantom{-}\\frac{1}{2} & | & \\phantom{-}\\frac{1}{2} \\\\\n",
    "\\phantom{-}0 & \\phantom{-}1 & \\phantom{-}1 & | & -1 \\\\\n",
    "\\phantom{-}0 & \\phantom{-}0 & \\phantom{-}1 & | & -1 \n",
    "\\end{bmatrix}\n",
    "$$\n",
    "\n",
    "Starting from bottom to top:\n",
    "\n",
    "- $R_2$:\n",
    "\n",
    "- -  $R_1 = R_1 - 1 \\cdot R_2 = \\begin{bmatrix} 0 & 1 & 0 & | & 0 \\end{bmatrix}$\n",
    "- - $R_0 = R_0 - \\frac{1}{2} \\cdot R_2 = \\begin{bmatrix} 1 & -1& 0 & | & 1 \\end{bmatrix}$\n",
    "\n",
    "The resulting matrix is then\n",
    "\n",
    "$$\n",
    "M = \n",
    "\\begin{bmatrix} \n",
    "\\phantom{-}1 & -1 & \\phantom{-}0 & | & \\phantom{-}1  \\\\\n",
    "\\phantom{-}0 & \\phantom{-}1 & \\phantom{-}0 & | & \\phantom{-}0 \\\\\n",
    "\\phantom{-}0 & \\phantom{-}0 & \\phantom{-}1 & | & -1 \n",
    "\\end{bmatrix}\n",
    "$$\n",
    "\n",
    "Moving to $R_1$:\n",
    "\n",
    "- $R_1$:\n",
    "\n",
    "- - $R_0 = R_0 - \\left(-1 \\cdot R_1 \\right) = \\begin{bmatrix} 1 & 0 & 0 & | & 1 \\end{bmatrix}$\n",
    "\n",
    "And the final matrix is\n",
    "\n",
    "$$\n",
    "M = \n",
    "\\begin{bmatrix} \n",
    "\\phantom{-}1 & \\phantom{-}0 & \\phantom{-}0 & | & \\phantom{-}1  \\\\\n",
    "\\phantom{-}0 & \\phantom{-}1 & \\phantom{-}0 & | & \\phantom{-}0 \\\\\n",
    "\\phantom{-}0 & \\phantom{-}0 & \\phantom{-}1 & | & -1\n",
    "\\end{bmatrix}\n",
    "$$"
   ]
  },
  {
   "cell_type": "markdown",
   "id": "58fad8f1-f6b9-401c-86f7-108c603564e4",
   "metadata": {},
   "source": [
    "The solution is just the values in the augmented column! In this case,\n",
    "$$\n",
    "x_0 = 1 \\ \\ x_1 =0\\ \\ x_2 = -1\n",
    "$$"
   ]
  },
  {
   "cell_type": "markdown",
   "id": "a9b8dd8c-c601-4de1-8aec-a9cd0686e956",
   "metadata": {},
   "source": [
    "<a name=\"5.1\"></a>\n",
    "### 5.1 - Back substitution function"
   ]
  },
  {
   "cell_type": "code",
   "execution_count": 54,
   "id": "acd83c10-b3e6-44be-adbc-532d3e26af60",
   "metadata": {},
   "outputs": [],
   "source": [
    "def back_substitution(M):\n",
    "    M = M.copy()\n",
    "    num_rows = M.shape[0]\n",
    "\n",
    "    for row in reversed(range(num_rows)):\n",
    "        substitution_row = row\n",
    "        index = get_index_first_non_zero_value_from_row(M, substitution_row, augmented = True)\n",
    "        for j in range(row - 1, -1, -1):\n",
    "            row_to_reduce = M[j, :]\n",
    "            value = M[j, index]\n",
    "            row_to_reduce = row_to_reduce - value*M[substitution_row]\n",
    "            M[j, :] = row_to_reduce\n",
    "    solution = M[:, -1]\n",
    "    return solution"
   ]
  },
  {
   "cell_type": "markdown",
   "id": "f5449173-d94f-40ce-bd2f-e975e0f2cfb2",
   "metadata": {},
   "source": [
    "<a name=\"6\"></a>\n",
    "## 6 - The Gaussian Elimination\n",
    "\n",
    "<a name=\"6.1\"></a>\n",
    "### 6.1 - Bringing it all together"
   ]
  },
  {
   "cell_type": "code",
   "execution_count": 57,
   "id": "34836bb0-2420-489c-af6f-0bc17d0ba7bd",
   "metadata": {},
   "outputs": [],
   "source": [
    "def gaussian_elimination(A, B):\n",
    "    row_echelon_M = row_echelon_form(A, B)\n",
    "\n",
    "    if not isinstance(row_echelon_M, str): \n",
    "        solution = back_substitution(row_echelon_M)\n",
    "    return solution"
   ]
  },
  {
   "cell_type": "markdown",
   "id": "55d29ae1-061d-457c-b4d1-83938c7c119a",
   "metadata": {},
   "source": [
    "<a name=\"7\"></a>\n",
    "## 7 - Test with any system of equations!"
   ]
  },
  {
   "cell_type": "code",
   "execution_count": 60,
   "id": "43efab05-d37b-47aa-b578-6ae4b4d137d7",
   "metadata": {},
   "outputs": [
    {
     "name": "stdout",
     "output_type": "stream",
     "text": [
      "x = -1.5414\n",
      "y = -0.5223\n",
      "w = -0.1210\n",
      "z = 1.1855\n"
     ]
    }
   ],
   "source": [
    "equations = \"\"\"\n",
    "3*x + 6*y + 6*w + 8*z = 1\n",
    "5*x + 3*y + 6*w = -10\n",
    "4*y - 5*w + 8*z = 8\n",
    "4*w + 8*z = 9\n",
    "\"\"\"\n",
    "\n",
    "variables = 'x y w z'\n",
    "A = np.array([[3, 6, 6, 8],\n",
    "       [5, 3, 6, 0],\n",
    "       [0, 4, -5, 8],\n",
    "       [0, 0, 4, 8]])\n",
    "\n",
    "B = np.array([[1.],\n",
    "       [-10],\n",
    "       [8],\n",
    "       [9]])\n",
    "\n",
    "\n",
    "sols = gaussian_elimination(A, B)\n",
    "\n",
    "if not isinstance(sols, str):\n",
    "    for variable, solution in zip(variables.split(' '),sols):\n",
    "        print(f\"{variable} = {solution:.4f}\")\n",
    "else:\n",
    "    print(sols)"
   ]
  },
  {
   "cell_type": "code",
   "execution_count": null,
   "id": "8a710ecb-61c1-42bf-a377-3430e22e0fed",
   "metadata": {},
   "outputs": [],
   "source": []
  }
 ],
 "metadata": {
  "kernelspec": {
   "display_name": "Python 3 (ipykernel)",
   "language": "python",
   "name": "python3"
  },
  "language_info": {
   "codemirror_mode": {
    "name": "ipython",
    "version": 3
   },
   "file_extension": ".py",
   "mimetype": "text/x-python",
   "name": "python",
   "nbconvert_exporter": "python",
   "pygments_lexer": "ipython3",
   "version": "3.12.7"
  }
 },
 "nbformat": 4,
 "nbformat_minor": 5
}
